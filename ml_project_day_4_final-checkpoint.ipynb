{
 "cells": [
  {
   "cell_type": "markdown",
   "metadata": {
    "id": "msgQoKfkRLAS"
   },
   "source": [
    "**Problem statement :**\n",
    "- The system in focus is the Air Pressure system (APS) which generates pressurized air that are utilized in various functions in a truck, such as braking and gear changes. The datasets positive class corresponds to component failures for a specific component of the APS system. The negative class corresponds to trucks with failures for components not related to the APS system.\n",
    "\n",
    "- The problem is to reduce the cost due to unnecessary repairs. So it is required to minimize the false predictions."
   ]
  },
  {
   "cell_type": "code",
   "execution_count": 1,
   "metadata": {
    "id": "f4Y4mQTXPz9l"
   },
   "outputs": [],
   "source": [
    "import numpy as np\n",
    "import pandas as pd\n",
    "import seaborn as sns\n",
    "from sklearn.preprocessing import StandardScaler, MinMaxScaler, RobustScaler\n",
    "import matplotlib.pyplot as plt\n",
    "from sklearn.impute import KNNImputer, SimpleImputer\n",
    "from sklearn.pipeline import Pipeline\n",
    "from sklearn.linear_model import LogisticRegression\n",
    "from sklearn.model_selection import train_test_split, cross_val_score"
   ]
  },
  {
   "cell_type": "code",
   "execution_count": 2,
   "metadata": {
    "colab": {
     "base_uri": "https://localhost:8080/",
     "height": 443
    },
    "id": "2tTygo9HTZcX",
    "outputId": "d2d748f2-f0ec-448a-9434-e05ceead385c"
   },
   "outputs": [
    {
     "data": {
      "text/html": [
       "<div>\n",
       "<style scoped>\n",
       "    .dataframe tbody tr th:only-of-type {\n",
       "        vertical-align: middle;\n",
       "    }\n",
       "\n",
       "    .dataframe tbody tr th {\n",
       "        vertical-align: top;\n",
       "    }\n",
       "\n",
       "    .dataframe thead th {\n",
       "        text-align: right;\n",
       "    }\n",
       "</style>\n",
       "<table border=\"1\" class=\"dataframe\">\n",
       "  <thead>\n",
       "    <tr style=\"text-align: right;\">\n",
       "      <th></th>\n",
       "      <th>class</th>\n",
       "      <th>aa_000</th>\n",
       "      <th>ab_000</th>\n",
       "      <th>ac_000</th>\n",
       "      <th>ad_000</th>\n",
       "      <th>ae_000</th>\n",
       "      <th>af_000</th>\n",
       "      <th>ag_000</th>\n",
       "      <th>ag_001</th>\n",
       "      <th>ag_002</th>\n",
       "      <th>...</th>\n",
       "      <th>ee_002</th>\n",
       "      <th>ee_003</th>\n",
       "      <th>ee_004</th>\n",
       "      <th>ee_005</th>\n",
       "      <th>ee_006</th>\n",
       "      <th>ee_007</th>\n",
       "      <th>ee_008</th>\n",
       "      <th>ee_009</th>\n",
       "      <th>ef_000</th>\n",
       "      <th>eg_000</th>\n",
       "    </tr>\n",
       "  </thead>\n",
       "  <tbody>\n",
       "    <tr>\n",
       "      <th>0</th>\n",
       "      <td>pos</td>\n",
       "      <td>153204</td>\n",
       "      <td>0.0</td>\n",
       "      <td>1.820000e+02</td>\n",
       "      <td>NaN</td>\n",
       "      <td>0.0</td>\n",
       "      <td>0.0</td>\n",
       "      <td>0.0</td>\n",
       "      <td>0.0</td>\n",
       "      <td>0.0</td>\n",
       "      <td>...</td>\n",
       "      <td>129862.0</td>\n",
       "      <td>26872.0</td>\n",
       "      <td>34044.0</td>\n",
       "      <td>22472.0</td>\n",
       "      <td>34362.0</td>\n",
       "      <td>0.0</td>\n",
       "      <td>0.0</td>\n",
       "      <td>0.0</td>\n",
       "      <td>0.0</td>\n",
       "      <td>0.0</td>\n",
       "    </tr>\n",
       "    <tr>\n",
       "      <th>1</th>\n",
       "      <td>pos</td>\n",
       "      <td>453236</td>\n",
       "      <td>NaN</td>\n",
       "      <td>2.926000e+03</td>\n",
       "      <td>NaN</td>\n",
       "      <td>0.0</td>\n",
       "      <td>0.0</td>\n",
       "      <td>0.0</td>\n",
       "      <td>0.0</td>\n",
       "      <td>222.0</td>\n",
       "      <td>...</td>\n",
       "      <td>7908038.0</td>\n",
       "      <td>3026002.0</td>\n",
       "      <td>5025350.0</td>\n",
       "      <td>2025766.0</td>\n",
       "      <td>1160638.0</td>\n",
       "      <td>533834.0</td>\n",
       "      <td>493800.0</td>\n",
       "      <td>6914.0</td>\n",
       "      <td>0.0</td>\n",
       "      <td>0.0</td>\n",
       "    </tr>\n",
       "    <tr>\n",
       "      <th>2</th>\n",
       "      <td>pos</td>\n",
       "      <td>72504</td>\n",
       "      <td>NaN</td>\n",
       "      <td>1.594000e+03</td>\n",
       "      <td>1052.0</td>\n",
       "      <td>0.0</td>\n",
       "      <td>0.0</td>\n",
       "      <td>0.0</td>\n",
       "      <td>244.0</td>\n",
       "      <td>178226.0</td>\n",
       "      <td>...</td>\n",
       "      <td>1432098.0</td>\n",
       "      <td>372252.0</td>\n",
       "      <td>527514.0</td>\n",
       "      <td>358274.0</td>\n",
       "      <td>332818.0</td>\n",
       "      <td>284178.0</td>\n",
       "      <td>3742.0</td>\n",
       "      <td>0.0</td>\n",
       "      <td>0.0</td>\n",
       "      <td>0.0</td>\n",
       "    </tr>\n",
       "    <tr>\n",
       "      <th>3</th>\n",
       "      <td>pos</td>\n",
       "      <td>762958</td>\n",
       "      <td>NaN</td>\n",
       "      <td>NaN</td>\n",
       "      <td>NaN</td>\n",
       "      <td>NaN</td>\n",
       "      <td>NaN</td>\n",
       "      <td>776.0</td>\n",
       "      <td>281128.0</td>\n",
       "      <td>2186308.0</td>\n",
       "      <td>...</td>\n",
       "      <td>NaN</td>\n",
       "      <td>NaN</td>\n",
       "      <td>NaN</td>\n",
       "      <td>NaN</td>\n",
       "      <td>NaN</td>\n",
       "      <td>NaN</td>\n",
       "      <td>NaN</td>\n",
       "      <td>NaN</td>\n",
       "      <td>NaN</td>\n",
       "      <td>NaN</td>\n",
       "    </tr>\n",
       "    <tr>\n",
       "      <th>4</th>\n",
       "      <td>pos</td>\n",
       "      <td>695994</td>\n",
       "      <td>NaN</td>\n",
       "      <td>NaN</td>\n",
       "      <td>NaN</td>\n",
       "      <td>NaN</td>\n",
       "      <td>NaN</td>\n",
       "      <td>0.0</td>\n",
       "      <td>0.0</td>\n",
       "      <td>0.0</td>\n",
       "      <td>...</td>\n",
       "      <td>1397742.0</td>\n",
       "      <td>495544.0</td>\n",
       "      <td>361646.0</td>\n",
       "      <td>28610.0</td>\n",
       "      <td>5130.0</td>\n",
       "      <td>212.0</td>\n",
       "      <td>0.0</td>\n",
       "      <td>0.0</td>\n",
       "      <td>NaN</td>\n",
       "      <td>NaN</td>\n",
       "    </tr>\n",
       "    <tr>\n",
       "      <th>...</th>\n",
       "      <td>...</td>\n",
       "      <td>...</td>\n",
       "      <td>...</td>\n",
       "      <td>...</td>\n",
       "      <td>...</td>\n",
       "      <td>...</td>\n",
       "      <td>...</td>\n",
       "      <td>...</td>\n",
       "      <td>...</td>\n",
       "      <td>...</td>\n",
       "      <td>...</td>\n",
       "      <td>...</td>\n",
       "      <td>...</td>\n",
       "      <td>...</td>\n",
       "      <td>...</td>\n",
       "      <td>...</td>\n",
       "      <td>...</td>\n",
       "      <td>...</td>\n",
       "      <td>...</td>\n",
       "      <td>...</td>\n",
       "      <td>...</td>\n",
       "    </tr>\n",
       "    <tr>\n",
       "      <th>36183</th>\n",
       "      <td>neg</td>\n",
       "      <td>153002</td>\n",
       "      <td>NaN</td>\n",
       "      <td>6.640000e+02</td>\n",
       "      <td>186.0</td>\n",
       "      <td>0.0</td>\n",
       "      <td>0.0</td>\n",
       "      <td>0.0</td>\n",
       "      <td>0.0</td>\n",
       "      <td>0.0</td>\n",
       "      <td>...</td>\n",
       "      <td>998500.0</td>\n",
       "      <td>566884.0</td>\n",
       "      <td>1290398.0</td>\n",
       "      <td>1218244.0</td>\n",
       "      <td>1019768.0</td>\n",
       "      <td>717762.0</td>\n",
       "      <td>898642.0</td>\n",
       "      <td>28588.0</td>\n",
       "      <td>0.0</td>\n",
       "      <td>0.0</td>\n",
       "    </tr>\n",
       "    <tr>\n",
       "      <th>36184</th>\n",
       "      <td>neg</td>\n",
       "      <td>2286</td>\n",
       "      <td>NaN</td>\n",
       "      <td>2.130707e+09</td>\n",
       "      <td>224.0</td>\n",
       "      <td>0.0</td>\n",
       "      <td>0.0</td>\n",
       "      <td>0.0</td>\n",
       "      <td>0.0</td>\n",
       "      <td>0.0</td>\n",
       "      <td>...</td>\n",
       "      <td>10578.0</td>\n",
       "      <td>6760.0</td>\n",
       "      <td>21126.0</td>\n",
       "      <td>68424.0</td>\n",
       "      <td>136.0</td>\n",
       "      <td>0.0</td>\n",
       "      <td>0.0</td>\n",
       "      <td>0.0</td>\n",
       "      <td>0.0</td>\n",
       "      <td>0.0</td>\n",
       "    </tr>\n",
       "    <tr>\n",
       "      <th>36185</th>\n",
       "      <td>neg</td>\n",
       "      <td>112</td>\n",
       "      <td>0.0</td>\n",
       "      <td>2.130706e+09</td>\n",
       "      <td>18.0</td>\n",
       "      <td>0.0</td>\n",
       "      <td>0.0</td>\n",
       "      <td>0.0</td>\n",
       "      <td>0.0</td>\n",
       "      <td>0.0</td>\n",
       "      <td>...</td>\n",
       "      <td>792.0</td>\n",
       "      <td>386.0</td>\n",
       "      <td>452.0</td>\n",
       "      <td>144.0</td>\n",
       "      <td>146.0</td>\n",
       "      <td>2622.0</td>\n",
       "      <td>0.0</td>\n",
       "      <td>0.0</td>\n",
       "      <td>0.0</td>\n",
       "      <td>0.0</td>\n",
       "    </tr>\n",
       "    <tr>\n",
       "      <th>36186</th>\n",
       "      <td>neg</td>\n",
       "      <td>80292</td>\n",
       "      <td>NaN</td>\n",
       "      <td>2.130706e+09</td>\n",
       "      <td>494.0</td>\n",
       "      <td>0.0</td>\n",
       "      <td>0.0</td>\n",
       "      <td>0.0</td>\n",
       "      <td>0.0</td>\n",
       "      <td>0.0</td>\n",
       "      <td>...</td>\n",
       "      <td>699352.0</td>\n",
       "      <td>222654.0</td>\n",
       "      <td>347378.0</td>\n",
       "      <td>225724.0</td>\n",
       "      <td>194440.0</td>\n",
       "      <td>165070.0</td>\n",
       "      <td>802280.0</td>\n",
       "      <td>388422.0</td>\n",
       "      <td>0.0</td>\n",
       "      <td>0.0</td>\n",
       "    </tr>\n",
       "    <tr>\n",
       "      <th>36187</th>\n",
       "      <td>neg</td>\n",
       "      <td>40222</td>\n",
       "      <td>NaN</td>\n",
       "      <td>6.980000e+02</td>\n",
       "      <td>628.0</td>\n",
       "      <td>0.0</td>\n",
       "      <td>0.0</td>\n",
       "      <td>0.0</td>\n",
       "      <td>0.0</td>\n",
       "      <td>0.0</td>\n",
       "      <td>...</td>\n",
       "      <td>440066.0</td>\n",
       "      <td>183200.0</td>\n",
       "      <td>344546.0</td>\n",
       "      <td>254068.0</td>\n",
       "      <td>225148.0</td>\n",
       "      <td>158304.0</td>\n",
       "      <td>170384.0</td>\n",
       "      <td>158.0</td>\n",
       "      <td>0.0</td>\n",
       "      <td>0.0</td>\n",
       "    </tr>\n",
       "  </tbody>\n",
       "</table>\n",
       "<p>36188 rows × 171 columns</p>\n",
       "</div>"
      ],
      "text/plain": [
       "      class  aa_000  ab_000        ac_000  ad_000  ae_000  af_000  ag_000  \\\n",
       "0       pos  153204     0.0  1.820000e+02     NaN     0.0     0.0     0.0   \n",
       "1       pos  453236     NaN  2.926000e+03     NaN     0.0     0.0     0.0   \n",
       "2       pos   72504     NaN  1.594000e+03  1052.0     0.0     0.0     0.0   \n",
       "3       pos  762958     NaN           NaN     NaN     NaN     NaN   776.0   \n",
       "4       pos  695994     NaN           NaN     NaN     NaN     NaN     0.0   \n",
       "...     ...     ...     ...           ...     ...     ...     ...     ...   \n",
       "36183   neg  153002     NaN  6.640000e+02   186.0     0.0     0.0     0.0   \n",
       "36184   neg    2286     NaN  2.130707e+09   224.0     0.0     0.0     0.0   \n",
       "36185   neg     112     0.0  2.130706e+09    18.0     0.0     0.0     0.0   \n",
       "36186   neg   80292     NaN  2.130706e+09   494.0     0.0     0.0     0.0   \n",
       "36187   neg   40222     NaN  6.980000e+02   628.0     0.0     0.0     0.0   \n",
       "\n",
       "         ag_001     ag_002  ...     ee_002     ee_003     ee_004     ee_005  \\\n",
       "0           0.0        0.0  ...   129862.0    26872.0    34044.0    22472.0   \n",
       "1           0.0      222.0  ...  7908038.0  3026002.0  5025350.0  2025766.0   \n",
       "2         244.0   178226.0  ...  1432098.0   372252.0   527514.0   358274.0   \n",
       "3      281128.0  2186308.0  ...        NaN        NaN        NaN        NaN   \n",
       "4           0.0        0.0  ...  1397742.0   495544.0   361646.0    28610.0   \n",
       "...         ...        ...  ...        ...        ...        ...        ...   \n",
       "36183       0.0        0.0  ...   998500.0   566884.0  1290398.0  1218244.0   \n",
       "36184       0.0        0.0  ...    10578.0     6760.0    21126.0    68424.0   \n",
       "36185       0.0        0.0  ...      792.0      386.0      452.0      144.0   \n",
       "36186       0.0        0.0  ...   699352.0   222654.0   347378.0   225724.0   \n",
       "36187       0.0        0.0  ...   440066.0   183200.0   344546.0   254068.0   \n",
       "\n",
       "          ee_006    ee_007    ee_008    ee_009  ef_000  eg_000  \n",
       "0        34362.0       0.0       0.0       0.0     0.0     0.0  \n",
       "1      1160638.0  533834.0  493800.0    6914.0     0.0     0.0  \n",
       "2       332818.0  284178.0    3742.0       0.0     0.0     0.0  \n",
       "3            NaN       NaN       NaN       NaN     NaN     NaN  \n",
       "4         5130.0     212.0       0.0       0.0     NaN     NaN  \n",
       "...          ...       ...       ...       ...     ...     ...  \n",
       "36183  1019768.0  717762.0  898642.0   28588.0     0.0     0.0  \n",
       "36184      136.0       0.0       0.0       0.0     0.0     0.0  \n",
       "36185      146.0    2622.0       0.0       0.0     0.0     0.0  \n",
       "36186   194440.0  165070.0  802280.0  388422.0     0.0     0.0  \n",
       "36187   225148.0  158304.0  170384.0     158.0     0.0     0.0  \n",
       "\n",
       "[36188 rows x 171 columns]"
      ]
     },
     "execution_count": 2,
     "metadata": {},
     "output_type": "execute_result"
    }
   ],
   "source": [
    "dataset_link = \"https://raw.githubusercontent.com/Afsaan/sensor_fault_detection/main/data/train.csv\"\n",
    "\n",
    "df = pd.read_csv(dataset_link, na_values = \"na\")\n",
    "\n",
    "df"
   ]
  },
  {
   "cell_type": "code",
   "execution_count": 3,
   "metadata": {
    "colab": {
     "base_uri": "https://localhost:8080/"
    },
    "id": "FWSRKdNtUAR8",
    "outputId": "c58fd218-1829-4459-cfb5-92bcde376ccf"
   },
   "outputs": [
    {
     "data": {
      "text/plain": [
       "(36188, 171)"
      ]
     },
     "execution_count": 3,
     "metadata": {},
     "output_type": "execute_result"
    }
   ],
   "source": [
    "# check now of rows and columns\n",
    "\n",
    "df.shape"
   ]
  },
  {
   "cell_type": "code",
   "execution_count": 4,
   "metadata": {
    "colab": {
     "base_uri": "https://localhost:8080/"
    },
    "id": "tG4RQmFkVh6j",
    "outputId": "c689193d-acea-4810-a682-d98b424413ea"
   },
   "outputs": [
    {
     "data": {
      "text/plain": [
       "class\n",
       "neg    35188\n",
       "pos     1000\n",
       "Name: count, dtype: int64"
      ]
     },
     "execution_count": 4,
     "metadata": {},
     "output_type": "execute_result"
    }
   ],
   "source": [
    "# check the unique values in a class\n",
    "df['class'].value_counts()"
   ]
  },
  {
   "cell_type": "code",
   "execution_count": 5,
   "metadata": {
    "colab": {
     "base_uri": "https://localhost:8080/"
    },
    "id": "92t9CW8oSPpm",
    "outputId": "98bd7477-ff99-4155-f620-815de4143290"
   },
   "outputs": [
    {
     "name": "stdout",
     "output_type": "stream",
     "text": [
      "we have 170 numrical features : ['aa_000', 'ab_000', 'ac_000', 'ad_000', 'ae_000', 'af_000', 'ag_000', 'ag_001', 'ag_002', 'ag_003', 'ag_004', 'ag_005', 'ag_006', 'ag_007', 'ag_008', 'ag_009', 'ah_000', 'ai_000', 'aj_000', 'ak_000', 'al_000', 'am_0', 'an_000', 'ao_000', 'ap_000', 'aq_000', 'ar_000', 'as_000', 'at_000', 'au_000', 'av_000', 'ax_000', 'ay_000', 'ay_001', 'ay_002', 'ay_003', 'ay_004', 'ay_005', 'ay_006', 'ay_007', 'ay_008', 'ay_009', 'az_000', 'az_001', 'az_002', 'az_003', 'az_004', 'az_005', 'az_006', 'az_007', 'az_008', 'az_009', 'ba_000', 'ba_001', 'ba_002', 'ba_003', 'ba_004', 'ba_005', 'ba_006', 'ba_007', 'ba_008', 'ba_009', 'bb_000', 'bc_000', 'bd_000', 'be_000', 'bf_000', 'bg_000', 'bh_000', 'bi_000', 'bj_000', 'bk_000', 'bl_000', 'bm_000', 'bn_000', 'bo_000', 'bp_000', 'bq_000', 'br_000', 'bs_000', 'bt_000', 'bu_000', 'bv_000', 'bx_000', 'by_000', 'bz_000', 'ca_000', 'cb_000', 'cc_000', 'cd_000', 'ce_000', 'cf_000', 'cg_000', 'ch_000', 'ci_000', 'cj_000', 'ck_000', 'cl_000', 'cm_000', 'cn_000', 'cn_001', 'cn_002', 'cn_003', 'cn_004', 'cn_005', 'cn_006', 'cn_007', 'cn_008', 'cn_009', 'co_000', 'cp_000', 'cq_000', 'cr_000', 'cs_000', 'cs_001', 'cs_002', 'cs_003', 'cs_004', 'cs_005', 'cs_006', 'cs_007', 'cs_008', 'cs_009', 'ct_000', 'cu_000', 'cv_000', 'cx_000', 'cy_000', 'cz_000', 'da_000', 'db_000', 'dc_000', 'dd_000', 'de_000', 'df_000', 'dg_000', 'dh_000', 'di_000', 'dj_000', 'dk_000', 'dl_000', 'dm_000', 'dn_000', 'do_000', 'dp_000', 'dq_000', 'dr_000', 'ds_000', 'dt_000', 'du_000', 'dv_000', 'dx_000', 'dy_000', 'dz_000', 'ea_000', 'eb_000', 'ec_00', 'ed_000', 'ee_000', 'ee_001', 'ee_002', 'ee_003', 'ee_004', 'ee_005', 'ee_006', 'ee_007', 'ee_008', 'ee_009', 'ef_000', 'eg_000']\n",
      "we have 1 categorical features : ['class']\n"
     ]
    }
   ],
   "source": [
    "# define numerical and categorical columns\n",
    "\n",
    "numeric_features = [feature for feature in df.columns if df[feature].dtype != 'O']\n",
    "categorical_features = [feature for feature in df.columns if df[feature].dtype == 'O']\n",
    "\n",
    "print(f\"we have {len(numeric_features)} numrical features : {numeric_features}\")\n",
    "print(f\"we have {len(categorical_features)} categorical features : {categorical_features}\")"
   ]
  },
  {
   "cell_type": "code",
   "execution_count": 6,
   "metadata": {
    "colab": {
     "base_uri": "https://localhost:8080/",
     "height": 423
    },
    "id": "IzioJmzE3spn",
    "outputId": "02e39d1b-4cc0-4f26-f9b7-f7669bcfa510"
   },
   "outputs": [
    {
     "data": {
      "text/html": [
       "<div>\n",
       "<style scoped>\n",
       "    .dataframe tbody tr th:only-of-type {\n",
       "        vertical-align: middle;\n",
       "    }\n",
       "\n",
       "    .dataframe tbody tr th {\n",
       "        vertical-align: top;\n",
       "    }\n",
       "\n",
       "    .dataframe thead th {\n",
       "        text-align: right;\n",
       "    }\n",
       "</style>\n",
       "<table border=\"1\" class=\"dataframe\">\n",
       "  <thead>\n",
       "    <tr style=\"text-align: right;\">\n",
       "      <th></th>\n",
       "      <th>0</th>\n",
       "    </tr>\n",
       "  </thead>\n",
       "  <tbody>\n",
       "    <tr>\n",
       "      <th>class</th>\n",
       "      <td>0.000000</td>\n",
       "    </tr>\n",
       "    <tr>\n",
       "      <th>aa_000</th>\n",
       "      <td>0.000000</td>\n",
       "    </tr>\n",
       "    <tr>\n",
       "      <th>ab_000</th>\n",
       "      <td>77.086327</td>\n",
       "    </tr>\n",
       "    <tr>\n",
       "      <th>ac_000</th>\n",
       "      <td>5.916326</td>\n",
       "    </tr>\n",
       "    <tr>\n",
       "      <th>ad_000</th>\n",
       "      <td>25.422792</td>\n",
       "    </tr>\n",
       "    <tr>\n",
       "      <th>...</th>\n",
       "      <td>...</td>\n",
       "    </tr>\n",
       "    <tr>\n",
       "      <th>ee_007</th>\n",
       "      <td>1.047309</td>\n",
       "    </tr>\n",
       "    <tr>\n",
       "      <th>ee_008</th>\n",
       "      <td>1.047309</td>\n",
       "    </tr>\n",
       "    <tr>\n",
       "      <th>ee_009</th>\n",
       "      <td>1.047309</td>\n",
       "    </tr>\n",
       "    <tr>\n",
       "      <th>ef_000</th>\n",
       "      <td>4.780590</td>\n",
       "    </tr>\n",
       "    <tr>\n",
       "      <th>eg_000</th>\n",
       "      <td>4.777827</td>\n",
       "    </tr>\n",
       "  </tbody>\n",
       "</table>\n",
       "<p>171 rows × 1 columns</p>\n",
       "</div>"
      ],
      "text/plain": [
       "                0\n",
       "class    0.000000\n",
       "aa_000   0.000000\n",
       "ab_000  77.086327\n",
       "ac_000   5.916326\n",
       "ad_000  25.422792\n",
       "...           ...\n",
       "ee_007   1.047309\n",
       "ee_008   1.047309\n",
       "ee_009   1.047309\n",
       "ef_000   4.780590\n",
       "eg_000   4.777827\n",
       "\n",
       "[171 rows x 1 columns]"
      ]
     },
     "execution_count": 6,
     "metadata": {},
     "output_type": "execute_result"
    }
   ],
   "source": [
    " (df.isna().sum().div(df.shape[0])*100).to_frame()"
   ]
  },
  {
   "cell_type": "code",
   "execution_count": null,
   "metadata": {
    "id": "WT8rj1BR4hYF"
   },
   "outputs": [],
   "source": []
  },
  {
   "cell_type": "code",
   "execution_count": 7,
   "metadata": {
    "colab": {
     "base_uri": "https://localhost:8080/",
     "height": 430
    },
    "id": "EyHcF4lPTZbl",
    "outputId": "4b218965-e665-46c6-da1d-062bfc663448"
   },
   "outputs": [
    {
     "ename": "AttributeError",
     "evalue": "'int' object has no attribute 'to_frame'",
     "output_type": "error",
     "traceback": [
      "\u001b[1;31m---------------------------------------------------------------------------\u001b[0m",
      "\u001b[1;31mAttributeError\u001b[0m                            Traceback (most recent call last)",
      "Cell \u001b[1;32mIn[7], line 4\u001b[0m\n\u001b[0;32m      1\u001b[0m \u001b[38;5;66;03m# check the missing values\u001b[39;00m\n\u001b[0;32m      3\u001b[0m fig, ax \u001b[38;5;241m=\u001b[39m plt\u001b[38;5;241m.\u001b[39msubplots(figsize\u001b[38;5;241m=\u001b[39m(\u001b[38;5;241m15\u001b[39m,\u001b[38;5;241m5\u001b[39m))\n\u001b[1;32m----> 4\u001b[0m missing \u001b[38;5;241m=\u001b[39m df\u001b[38;5;241m.\u001b[39misna()\u001b[38;5;241m.\u001b[39msum()\u001b[38;5;241m.\u001b[39mdiv(df\u001b[38;5;241m.\u001b[39mshape[\u001b[38;5;241m0\u001b[39m])\u001b[38;5;241m*\u001b[39m(\u001b[38;5;241m100\u001b[39m)\u001b[38;5;241m.\u001b[39mto_frame()\u001b[38;5;241m.\u001b[39msort_values(by\u001b[38;5;241m=\u001b[39m\u001b[38;5;241m0\u001b[39m, ascending\u001b[38;5;241m=\u001b[39m\u001b[38;5;28;01mFalse\u001b[39;00m)\n\u001b[0;32m      5\u001b[0m ax\u001b[38;5;241m.\u001b[39mbar(missing\u001b[38;5;241m.\u001b[39mindex, missing\u001b[38;5;241m.\u001b[39mvalues\u001b[38;5;241m.\u001b[39mT[\u001b[38;5;241m0\u001b[39m])\n\u001b[0;32m      6\u001b[0m plt\u001b[38;5;241m.\u001b[39mxticks([])\n",
      "\u001b[1;31mAttributeError\u001b[0m: 'int' object has no attribute 'to_frame'"
     ]
    },
    {
     "data": {
      "image/png": "[encoded data removed]",
      "text/plain": [
       "<Figure size 1500x500 with 1 Axes>"
      ]
     },
     "metadata": {},
     "output_type": "display_data"
    }
   ],
   "source": [
    "# check the missing values\n",
    "\n",
    "fig, ax = plt.subplots(figsize=(15,5))\n",
    "missing = df.isna().sum().div(df.shape[0])*(100).to_frame().sort_values(by=0, ascending=False)\n",
    "ax.bar(missing.index, missing.values.T[0])\n",
    "plt.xticks([])\n",
    "plt.ylabel(\"Percentage missing\")\n",
    "plt.show()\n",
    "\n",
    "\n"
   ]
  },
  {
   "cell_type": "code",
   "execution_count": null,
   "metadata": {
    "colab": {
     "base_uri": "https://localhost:8080/",
     "height": 269
    },
    "id": "YqwoAHtqa0uI",
    "outputId": "46b25667-90a8-4112-ccad-2da52272ec7d"
   },
   "outputs": [],
   "source": [
    "# dropping the columns which has more than 70% of missing values\n",
    "\n",
    "dropcols = missing[missing[0]>70]\n",
    "dropcols"
   ]
  },
  {
   "cell_type": "code",
   "execution_count": null,
   "metadata": {
    "id": "7SslpXBBbinQ"
   },
   "outputs": [],
   "source": [
    "df.drop(dropcols.index, axis=1, inplace=True)"
   ]
  },
  {
   "cell_type": "code",
   "execution_count": null,
   "metadata": {
    "colab": {
     "base_uri": "https://localhost:8080/"
    },
    "id": "El2zAoPibyDG",
    "outputId": "d8723e1c-2ac2-46f5-d726-6c57955012e8"
   },
   "outputs": [],
   "source": [
    "# check the rows and columns\n",
    "df.shape"
   ]
  },
  {
   "cell_type": "code",
   "execution_count": null,
   "metadata": {
    "colab": {
     "base_uri": "https://localhost:8080/"
    },
    "id": "hW5pGdvMcHF4",
    "outputId": "601ea97e-a661-4c7c-92ae-f807f1d86886"
   },
   "outputs": [],
   "source": [
    "missing_values_count = df.isnull().sum()\n",
    "total_cells = np.product(df.shape)\n",
    "total_missing = missing_values_count.sum()\n",
    "\n",
    "# percentage of the missing data in the entire dataset\n",
    "print(f\"Percentage of the total missing cells in the data : {(total_missing/total_cells)*100}\")"
   ]
  },
  {
   "cell_type": "code",
   "execution_count": null,
   "metadata": {
    "colab": {
     "base_uri": "https://localhost:8080/",
     "height": 524
    },
    "id": "vSpr6oJEd6F9",
    "outputId": "fe92b08a-61d9-4e99-8dd3-3d42f14de2b2"
   },
   "outputs": [],
   "source": [
    "# plot the target variables to understand the pattern/data\n",
    "\n",
    "pos = df[df['class']=='pos'].shape[0]\n",
    "neg = df[df['class']=='neg'].shape[0]\n",
    "sns.catplot(data=df, x='class', kind=\"count\")\n",
    "print(f\"Positive: {pos}, Negative: {neg}\")\n",
    "\n"
   ]
  },
  {
   "cell_type": "markdown",
   "metadata": {
    "id": "D2mfhgMWgakx"
   },
   "source": [
    "we have two problems\n",
    "\n",
    "1. we have arounf 5% of the missing values\n",
    "2. we have highly imbalanced data\n",
    "        - oversampling\n",
    "        - undersampling\n",
    "\n",
    "\n",
    "reading task - (SMOTE + TOMEK)\n",
    "reading task - (KNN imputer)\n",
    "reading task - (Robust scaler)\n"
   ]
  },
  {
   "cell_type": "code",
   "execution_count": null,
   "metadata": {
    "id": "wLaIfkZijmlT"
   },
   "outputs": [],
   "source": [
    "# Evaluate model on different experiments"
   ]
  },
  {
   "cell_type": "code",
   "execution_count": null,
   "metadata": {
    "id": "OA7lJlKQfzeJ"
   },
   "outputs": [],
   "source": [
    "# spliting the data into x and y\n",
    "X = df.drop('class', axis = 1)\n",
    "y = df['class']\n"
   ]
  },
  {
   "cell_type": "code",
   "execution_count": null,
   "metadata": {
    "id": "gA3WwwhSj3Xz"
   },
   "outputs": [],
   "source": [
    "# encoding the target variables\n",
    "\n",
    "y = y.replace({\"pos\":1, \"neg\":0})"
   ]
  },
  {
   "cell_type": "markdown",
   "metadata": {
    "id": "zlUc0LUHmgIO"
   },
   "source": [
    "# Experiment 1 = KNN Imputer for NUll values and Robust Scaler for scaling"
   ]
  },
  {
   "cell_type": "code",
   "execution_count": null,
   "metadata": {
    "id": "zNBun7uqkBsO"
   },
   "outputs": [],
   "source": [
    "robust_scaler = RobustScaler()\n",
    "X1 = robust_scaler.fit_transform(X)"
   ]
  },
  {
   "cell_type": "code",
   "execution_count": null,
   "metadata": {
    "id": "6L5MLAqZdTGp"
   },
   "outputs": [],
   "source": [
    "X1"
   ]
  },
  {
   "cell_type": "code",
   "execution_count": null,
   "metadata": {
    "colab": {
     "base_uri": "https://localhost:8080/",
     "height": 356
    },
    "id": "lxjdvTV5mr2H",
    "outputId": "e6e34a6f-9c57-475e-fa93-5b0e2d8f6ee9"
   },
   "outputs": [],
   "source": [
    "# optimal n neighbour\n",
    "results = []\n",
    "for s in [1,3,5,7]:\n",
    "  pipeline = Pipeline(steps=[(\"imputer\", KNNImputer(n_neighbors=s)), ('model', LogisticRegression())])\n",
    "  scores = cross_val_score(pipeline, X1, y, scoring=\"accuracy\", cv=2, n_jobs = -1)\n",
    "  results.append(scores)\n",
    "  print(f\"n_neighbors = {s} -> accuracy {np.mean(scores)}\")"
   ]
  },
  {
   "cell_type": "markdown",
   "metadata": {
    "id": "g36MB9_Je8lH"
   },
   "source": [
    "observs n_neigbours = 3"
   ]
  },
  {
   "cell_type": "code",
   "execution_count": null,
   "metadata": {
    "id": "7htwRKxaosyY"
   },
   "outputs": [],
   "source": [
    "knn_pipeline = Pipeline(steps = [(\"impute\", KNNImputer(n_neighbors=3)),\n",
    "                                 ('Robust_scalar', RobustScaler())\n",
    "                                ])"
   ]
  },
  {
   "cell_type": "code",
   "execution_count": null,
   "metadata": {
    "id": "r9tgN2WBf6eq"
   },
   "outputs": [],
   "source": [
    "X_knn = knn_pipeline.fit_transform(X)"
   ]
  },
  {
   "cell_type": "code",
   "execution_count": null,
   "metadata": {
    "id": "H3vdHpz7hqXl"
   },
   "outputs": [],
   "source": [
    "# balancing the data\n",
    "\n",
    "from imblearn.combine import SMOTETomek\n",
    "\n",
    "smt = SMOTETomek(random_state=101, sampling_strategy=\"minority\", n_jobs=-1)\n",
    "X_res, y_res = smt.fit_resample(X_knn, y)"
   ]
  },
  {
   "cell_type": "code",
   "execution_count": null,
   "metadata": {
    "id": "hkiHROsdjGPh"
   },
   "outputs": [],
   "source": [
    "# intialize deafult model in a dict\n",
    "\n",
    "from sklearn.ensemble import RandomForestClassifier, AdaBoostClassifier\n",
    "from sklearn.tree import DecisionTreeClassifier\n",
    "from sklearn.svm import SVC\n",
    "from xgboost import XGBClassifier\n",
    "\n",
    "models = {\n",
    "    \"Random Forest\" : RandomForestClassifier(),\n",
    "    \"Decision tree\" : DecisionTreeClassifier(),\n",
    "    \"svm\" : SVC(),\n",
    "    \"xgb\" : XGBClassifier(),\n",
    "    \"boost\" : AdaBoostClassifier()\n",
    "    }"
   ]
  },
  {
   "cell_type": "code",
   "execution_count": null,
   "metadata": {
    "id": "OqSz0CdHp9lx"
   },
   "outputs": [],
   "source": [
    "from sklearn.metrics import accuracy_score, precision_score, recall_score, f1_score, roc_auc_score, confusion_matrix"
   ]
  },
  {
   "cell_type": "code",
   "execution_count": null,
   "metadata": {
    "id": "4WselRfOp76H"
   },
   "outputs": [],
   "source": [
    "def evalute_clf(true, predicted):\n",
    "\n",
    "  acc = accuracy_score(true, predicted) # calculate accuracy\n",
    "  f1 = f1_score(true, predicted) # calculate f1\n",
    "  precision = precision_score(true, predicted) # calculate precision\n",
    "  recall = recall_score(true, predicted) # calculate recall\n",
    "  roc_auc = roc_auc_score(true, predicted) # calculate roc auc\n",
    "\n",
    "  return acc, f1, precision, recall, roc_auc"
   ]
  },
  {
   "cell_type": "code",
   "execution_count": null,
   "metadata": {
    "id": "p0-sjtcGqAHf"
   },
   "outputs": [],
   "source": [
    "# function to cal the cost of the models\n",
    "def total_cost(y_true, y_pred):\n",
    "  tn, fp, fn, tp = confusion_matrix(y_true, y_pred).ravel()\n",
    "  cost = 100*fp + 500*fn\n",
    "  return cost\n"
   ]
  },
  {
   "cell_type": "code",
   "execution_count": null,
   "metadata": {
    "id": "hAabslBik8d7"
   },
   "outputs": [],
   "source": [
    "# create a funnction that will evaluate models and return a report\n",
    "def evalute_models(X, y, models):\n",
    "\n",
    "  # seperate dataset into train and test\n",
    "  X_train, X_test, y_train, y_test = train_test_split(X, y, test_size=0.2, random_state = 101)\n",
    "\n",
    "  cost_list = []\n",
    "  models_list = []\n",
    "\n",
    "  for i in range(len(list(models))):\n",
    "    model = list(models.values())[i]\n",
    "    model.fit(X_train, y_train) # train model\n",
    "\n",
    "    # make prediction\n",
    "    y_train_pred = model.predict(X_train)\n",
    "    y_test_pred = model.predict(X_test)\n",
    "\n",
    "    # training set performance\n",
    "    model_train_acc, model_train_f1, model_train_pre, model_train_recall, model_train_curve = evalute_clf(y_train, y_train_pred)\n",
    "    train_cost = total_cost(y_train, y_train_pred)\n",
    "\n",
    "    # test set performance\n",
    "    model_test_acc, model_test_f1, model_test_pre, model_test_recall, model_test_curve = evalute_clf(y_test, y_test_pred)\n",
    "    test_cost = total_cost(y_test, y_test_pred)\n",
    "\n",
    "    print('=+'*50)\n",
    "    print(list(models.values())[i])\n",
    "    models_list.append(list(models.values())[i])\n",
    "\n",
    "    print(\"model performance training set\")\n",
    "    print(f\"Accuracy {model_train_acc}\")\n",
    "    print(f\"f1 score {model_train_f1}\")\n",
    "    print(f\"precision {model_train_pre}\")\n",
    "    print(f\"recall {model_train_recall}\")\n",
    "    print(f\"roc auc {model_train_curve}\")\n",
    "    print(f\"total cost {train_cost}\")\n",
    "\n",
    "    print(\"-\"*50)\n",
    "\n",
    "    print(\"model performance test set\")\n",
    "    print(f\"Accuracy {model_test_acc}\")\n",
    "    print(f\"f1 score {model_test_f1}\")\n",
    "    print(f\"precision {model_test_pre}\")\n",
    "    print(f\"recall {model_test_recall}\")\n",
    "    print(f\"roc auc {model_test_curve}\")\n",
    "    print(f\"total cost {test_cost}\")\n",
    "    print('\\n')\n",
    "\n",
    "    cost_list.append(test_cost)\n",
    "\n",
    "  report = pd.DataFrame(list(zip(models_list, cost_list)), columns = [\"model Name\", \"cost\"]).sort_values(by=[\"cost\"])\n",
    "\n",
    "  return report\n"
   ]
  },
  {
   "cell_type": "code",
   "execution_count": null,
   "metadata": {
    "id": "PBX9fBskt7hw"
   },
   "outputs": [],
   "source": [
    "report_knn = evalute_models(X_res, y_res, models)"
   ]
  },
  {
   "cell_type": "markdown",
   "metadata": {
    "id": "3ddaNwXwyHcK"
   },
   "source": [
    "Task\n",
    "Experiment 1 - Knn imputer - done\n",
    "\n",
    "Experiment 2 - median imputer\n",
    "\n",
    "Experiment 3 - mean imputer\n",
    "\n",
    "Experiment 4 - constant imputer - 0\n",
    "\n",
    "\n"
   ]
  },
  {
   "cell_type": "code",
   "execution_count": null,
   "metadata": {
    "id": "QlWsK-DimvSi"
   },
   "outputs": [],
   "source": [
    "from imblearn.combine import SMOTETomek"
   ]
  },
  {
   "cell_type": "code",
   "execution_count": null,
   "metadata": {
    "colab": {
     "base_uri": "https://localhost:8080/"
    },
    "id": "Q9mKZcc6yp6R",
    "outputId": "05dc85a4-553d-4385-b39e-39f32567ea76"
   },
   "outputs": [],
   "source": [
    "# experiment 3 -  mean imputer\n",
    "\n",
    "mean_pipeline = Pipeline(steps = [(\"impute\", SimpleImputer(strategy=\"mean\")),\n",
    "                                 ('Robust_scalar', RobustScaler())\n",
    "                                ])\n",
    "\n",
    "X_mean = mean_pipeline.fit_transform(X)\n",
    "\n",
    "smt = SMOTETomek(random_state=101, sampling_strategy=\"minority\", n_jobs=-1)\n",
    "X_res, y_res = smt.fit_resample(X_mean, y)\n",
    "\n",
    "report_mean = evalute_models(X_res, y_res, models)"
   ]
  },
  {
   "cell_type": "code",
   "execution_count": null,
   "metadata": {
    "colab": {
     "base_uri": "https://localhost:8080/",
     "height": 206
    },
    "id": "FCAog_G2xla2",
    "outputId": "edade275-2c9e-49c0-ae6f-70c7776f9491"
   },
   "outputs": [],
   "source": [
    "report_mean"
   ]
  },
  {
   "cell_type": "code",
   "execution_count": null,
   "metadata": {
    "id": "CUF4wKzvl3Es"
   },
   "outputs": [],
   "source": [
    "# experiment 2 -  median imputer\n",
    "\n",
    "median_pipeline = Pipeline(steps = [(\"impute\", SimpleImputer(strategy=\"median\")),\n",
    "                                 ('Robust_scalar', RobustScaler())\n",
    "                                ])\n",
    "\n",
    "X_median = mean_pipeline.fit_transform(X)\n",
    "\n",
    "smt = SMOTETomek(random_state=101, sampling_strategy=\"minority\", n_jobs=-1)\n",
    "X_res, y_res = smt.fit_resample(X_median, y)\n",
    "\n",
    "report_median = evalute_models(X_res, y_res, models)"
   ]
  },
  {
   "cell_type": "code",
   "execution_count": null,
   "metadata": {
    "id": "p0zBkjD9mDDi"
   },
   "outputs": [],
   "source": [
    "# experiment 4 -  constant imputer\n",
    "\n",
    "constant_pipeline = Pipeline(steps = [(\"impute\", SimpleImputer(strategy=\"constant\", fill_value=0)),\n",
    "                                 ('Robust_scalar', RobustScaler())\n",
    "                                ])\n",
    "\n",
    "X_constant = mean_pipeline.fit_transform(X)\n",
    "\n",
    "smt = SMOTETomek(random_state=101, sampling_strategy=\"minority\", n_jobs=-1)\n",
    "X_res, y_res = smt.fit_resample(X_constant, y)\n",
    "\n",
    "report_constant = evalute_models(X_res, y_res, models)"
   ]
  },
  {
   "cell_type": "code",
   "execution_count": null,
   "metadata": {
    "id": "kNtodQerpASS"
   },
   "outputs": [],
   "source": [
    "# experiment 5 - PCA\n",
    "\n",
    "from sklearn.decomposition import PCA\n",
    "\n",
    "pca_pipeline = Pipeline(steps = [(\"impute\", SimpleImputer(strategy=\"median\")),\n",
    "                                 ('Robust_scalar', RobustScaler())\n",
    "                                ])\n",
    "\n",
    "X_pca = pca_pipeline.fit_transform(X)"
   ]
  },
  {
   "cell_type": "code",
   "execution_count": null,
   "metadata": {
    "id": "RXYPzViZqwf3"
   },
   "outputs": [],
   "source": [
    "var_ratio = {}\n",
    "for n in range(2,150):\n",
    "  pc = PCA(n_components = n)\n",
    "  df_pca = pc.fit(X_pca)\n",
    "  var_ratio[n] = sum(df_pca.explained_variance_ratio_)"
   ]
  },
  {
   "cell_type": "code",
   "execution_count": null,
   "metadata": {
    "colab": {
     "base_uri": "https://localhost:8080/",
     "height": 447
    },
    "id": "eAzCjXkSsppg",
    "outputId": "a13262dd-8da0-48d8-ac4e-ffec97e32c33"
   },
   "outputs": [],
   "source": [
    "pd.Series(var_ratio).plot()"
   ]
  },
  {
   "cell_type": "code",
   "execution_count": null,
   "metadata": {
    "colab": {
     "base_uri": "https://localhost:8080/"
    },
    "id": "hIz4up3suHZw",
    "outputId": "2c3821f5-2c52-4366-cf93-275adce8fc54"
   },
   "outputs": [],
   "source": [
    "!pip install kneed"
   ]
  },
  {
   "cell_type": "code",
   "execution_count": null,
   "metadata": {
    "colab": {
     "base_uri": "https://localhost:8080/",
     "height": 599
    },
    "id": "OFN0HnlQs-qa",
    "outputId": "a3c38ed2-5766-4c85-a84b-20f893947874"
   },
   "outputs": [],
   "source": [
    "from kneed import KneeLocator\n",
    "\n",
    "i = np.arange(len(var_ratio))\n",
    "variance_ratio = list(var_ratio.values())\n",
    "components = list(var_ratio.keys())\n",
    "knee = KneeLocator(i, variance_ratio, curve=\"concave\", interp_method='polynomial')\n",
    "\n",
    "\n",
    "fig = plt.figure(figsize=(6,6))\n",
    "knee.plot_knee()\n",
    "plt.xlabel(\"Points\")\n",
    "plt.ylabel(\"Distance\")\n",
    "plt.show()\n",
    "k = components[knee.knee]\n",
    "print(f\"knee locator k = {k}\")"
   ]
  },
  {
   "cell_type": "code",
   "execution_count": null,
   "metadata": {
    "id": "czBpJHQCwp8m"
   },
   "outputs": [],
   "source": [
    "# reducing the dimension of the data\n",
    "\n",
    "pca_final = PCA(n_components=18)\n",
    "\n",
    "reduced = pca_final.fit_transform(X_pca)"
   ]
  },
  {
   "cell_type": "code",
   "execution_count": null,
   "metadata": {
    "colab": {
     "base_uri": "https://localhost:8080/"
    },
    "id": "xVIRpCNUxK9n",
    "outputId": "fe88b23f-9458-48bf-9183-b06c6b5c94e5"
   },
   "outputs": [],
   "source": [
    "reduced.shape"
   ]
  },
  {
   "cell_type": "code",
   "execution_count": null,
   "metadata": {
    "colab": {
     "base_uri": "https://localhost:8080/"
    },
    "id": "u9E9BG9RxLRP",
    "outputId": "f09fdc45-619c-4003-baa5-01960c26d9f1"
   },
   "outputs": [],
   "source": [
    "smt = SMOTETomek(random_state=101, sampling_strategy=\"minority\", n_jobs=-1)\n",
    "X_res, y_res = smt.fit_resample(reduced, y)"
   ]
  },
  {
   "cell_type": "code",
   "execution_count": null,
   "metadata": {
    "colab": {
     "base_uri": "https://localhost:8080/"
    },
    "id": "Vl_mafGBxenR",
    "outputId": "abd7c4e2-851b-4912-f039-43a1330dd049"
   },
   "outputs": [],
   "source": [
    "# training all models\n",
    "\n",
    "report_pca = evalute_models(X_res, y_res, models)"
   ]
  },
  {
   "cell_type": "code",
   "execution_count": null,
   "metadata": {
    "colab": {
     "base_uri": "https://localhost:8080/",
     "height": 206
    },
    "id": "IxN8j1zux3Xa",
    "outputId": "ab74ecf6-1566-4bba-84b9-6ad5946c16ef"
   },
   "outputs": [],
   "source": [
    "report_pca"
   ]
  },
  {
   "cell_type": "code",
   "execution_count": null,
   "metadata": {
    "colab": {
     "base_uri": "https://localhost:8080/",
     "height": 206
    },
    "id": "lD7yN4A70I0z",
    "outputId": "8d94c420-711b-4914-a6fe-4e98e178ab94"
   },
   "outputs": [],
   "source": [
    "report_mean"
   ]
  },
  {
   "cell_type": "code",
   "execution_count": null,
   "metadata": {
    "colab": {
     "base_uri": "https://localhost:8080/"
    },
    "id": "ZTAUX6WH0d7C",
    "outputId": "ceb76e48-6a21-433c-fdc8-1625a846210d"
   },
   "outputs": [],
   "source": [
    "from prettytable import PrettyTable\n",
    "\n",
    "pt=PrettyTable()\n",
    "pt.field_names=[\"Model\",\"Imputation_method\",\"Total_cost\"]\n",
    "pt.add_row([\"XGBClassifier\",\"Simple Imputer-Constant\",\"2950\"])\n",
    "pt.add_row([\"XGBClassifier\",\"Knn-Imputer\",\"4460\"])\n",
    "pt.add_row([\"XGBClassifier\",\"Simple Imputer-Mean\",\"4950\"])\n",
    "pt.add_row([\"CatBoostClassifier\",\"Median\",\"5760\"])\n",
    "pt.add_row([\"Random Forest\",\"PCA\",\"34150\"])\n",
    "print(pt)"
   ]
  },
  {
   "cell_type": "code",
   "execution_count": null,
   "metadata": {
    "id": "SEYygJuK03NF"
   },
   "outputs": [],
   "source": [
    "# final --> report --> manual checking -> 95% accuracy\n",
    "\n",
    "model -> xgboost\n",
    "imputer -> constant"
   ]
  },
  {
   "cell_type": "code",
   "execution_count": null,
   "metadata": {
    "id": "hxgzraRl1Xfc"
   },
   "outputs": [],
   "source": [
    "# methods\n",
    "\n",
    "1. constant imputer\n",
    "2. robust scaler\n",
    "3. fix imbalance data -> smotetomek\n",
    "4. xgboost\n",
    "5. testing accuracy - cost\n",
    "6. confusion matrix\n",
    "7. save the model\n",
    "8. prod\n"
   ]
  },
  {
   "cell_type": "code",
   "execution_count": null,
   "metadata": {
    "id": "A5RpgE4y2pnZ"
   },
   "outputs": [],
   "source": []
  }
 ],
 "metadata": {
  "colab": {
   "provenance": []
  },
  "kernelspec": {
   "display_name": "Python 3 (ipykernel)",
   "language": "python",
   "name": "python3"
  },
  "language_info": {
   "codemirror_mode": {
    "name": "ipython",
    "version": 3
   },
   "file_extension": ".py",
   "mimetype": "text/x-python",
   "name": "python",
   "nbconvert_exporter": "python",
   "pygments_lexer": "ipython3",
   "version": "3.11.5"
  }
 },
 "nbformat": 4,
 "nbformat_minor": 1
}
